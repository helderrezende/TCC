{
 "cells": [
  {
   "cell_type": "code",
   "execution_count": 3,
   "metadata": {
    "collapsed": false
   },
   "outputs": [
    {
     "name": "stderr",
     "output_type": "stream",
     "text": [
      "also installing the dependency ‘gsl’\n",
      "\n",
      "Warning message in install.packages(\"copula\", repos = \"http://cran.cnr.berkeley.edu\"):\n",
      "“installation of package ‘gsl’ had non-zero exit status”Warning message in install.packages(\"copula\", repos = \"http://cran.cnr.berkeley.edu\"):\n",
      "“installation of package ‘copula’ had non-zero exit status”Updating HTML index of packages in '.Library'\n",
      "Making 'packages.html' ... done\n"
     ]
    }
   ],
   "source": [
    "install.packages('copula', repos=\"http://cran.cnr.berkeley.edu\")\n",
    "\n"
   ]
  },
  {
   "cell_type": "code",
   "execution_count": 4,
   "metadata": {
    "collapsed": false
   },
   "outputs": [
    {
     "ename": "ERROR",
     "evalue": "Error in library(copula): there is no package called ‘copula’\n",
     "output_type": "error",
     "traceback": [
      "Error in library(copula): there is no package called ‘copula’\nTraceback:\n",
      "1. library(copula)",
      "2. stop(txt, domain = NA)"
     ]
    }
   ],
   "source": [
    "\n",
    "library(copula)"
   ]
  },
  {
   "cell_type": "code",
   "execution_count": 11,
   "metadata": {
    "collapsed": false
   },
   "outputs": [],
   "source": [
    "uniform <- read.zoo(\"uniforms.csv\", header = TRUE, sep = \",\")"
   ]
  },
  {
   "cell_type": "code",
   "execution_count": 14,
   "metadata": {
    "collapsed": false
   },
   "outputs": [
    {
     "ename": "ERROR",
     "evalue": "Error in eval(expr, envir, enclos): não foi possível encontrar a função \"tCopula\"\n",
     "output_type": "error",
     "traceback": [
      "Error in eval(expr, envir, enclos): não foi possível encontrar a função \"tCopula\"\nTraceback:\n"
     ]
    }
   ],
   "source": [
    "tcop <- tCopula(param=param.cor, dim = 4, dispstr=\"un\")\n",
    "fit.t <- fitCopula (tcop, uniform, method=\"ml\")"
   ]
  },
  {
   "cell_type": "code",
   "execution_count": null,
   "metadata": {
    "collapsed": true
   },
   "outputs": [],
   "source": []
  }
 ],
 "metadata": {
  "kernelspec": {
   "display_name": "R",
   "language": "R",
   "name": "ir"
  },
  "language_info": {
   "codemirror_mode": "r",
   "file_extension": ".r",
   "mimetype": "text/x-r-source",
   "name": "R",
   "pygments_lexer": "r",
   "version": "3.3.1"
  }
 },
 "nbformat": 4,
 "nbformat_minor": 0
}
